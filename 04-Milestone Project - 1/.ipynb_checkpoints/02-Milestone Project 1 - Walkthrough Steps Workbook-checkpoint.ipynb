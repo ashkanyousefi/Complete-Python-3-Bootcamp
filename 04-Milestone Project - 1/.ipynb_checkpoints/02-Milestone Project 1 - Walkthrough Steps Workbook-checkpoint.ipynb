{
 "cells": [
  {
   "cell_type": "markdown",
   "metadata": {},
   "source": [
    "# Milestone Project 1: Walkthrough Steps Workbook\n",
    "\n",
    "Below is a set of steps for you to follow to try to create the Tic Tac Toe Milestone Project game!"
   ]
  },
  {
   "cell_type": "markdown",
   "metadata": {},
   "source": [
    "#### Some suggested tools before you get started:\n",
    "To take input from a user:\n",
    "\n",
    "    player1 = input(\"Please pick a marker 'X' or 'O'\")\n",
    "    \n",
    "Note that input() takes in a string. If you need an integer value, use\n",
    "\n",
    "    position = int(input('Please enter a number'))\n",
    "    \n",
    "<br>To clear the screen between moves:\n",
    "\n",
    "    from IPython.display import clear_output\n",
    "    clear_output()\n",
    "    \n",
    "Note that clear_output() will only work in jupyter. To clear the screen in other IDEs, consider:\n",
    "\n",
    "    print('\\n'*100)\n",
    "    \n",
    "This scrolls the previous board up out of view. Now on to the program!"
   ]
  },
  {
   "cell_type": "markdown",
   "metadata": {},
   "source": [
    "**Step 1: Write a function that can print out a board. Set up your board as a list, where each index 1-9 corresponds with a number on a number pad, so you get a 3 by 3 board representation.**"
   ]
  },
  {
   "cell_type": "code",
   "execution_count": 1,
   "metadata": {},
   "outputs": [],
   "source": [
    "def display_board(board):\n",
    "    clean_board=[]\n",
    "    \n",
    "    if 'X' or 'O' in board:        \n",
    "        for i in board:\n",
    "            if i == 'X' or i == 'O' or i==' ':\n",
    "                clean_board.append(i)\n",
    "  \n",
    "    for i in range(0,len(clean_board),3):\n",
    "         print('|   |   |   |\\n| {} | {} | {} |\\n|   |   |   |\\n'.format(clean_board[i],clean_board[i+1],clean_board[i+2]) \\\n",
    "               + (('-' * 13) if i != (len(clean_board) - 3) else ''))\n"
   ]
  },
  {
   "cell_type": "markdown",
   "metadata": {},
   "source": [
    "**TEST Step 1:** run your function on a test version of the board list, and make adjustments as necessary"
   ]
  },
  {
   "cell_type": "markdown",
   "metadata": {},
   "source": [
    "**Step 2: Write a function that can take in a player input and assign their marker as 'X' or 'O'. Think about using *while* loops to continually ask until you get a correct answer.**"
   ]
  },
  {
   "cell_type": "code",
   "execution_count": 2,
   "metadata": {},
   "outputs": [],
   "source": [
    "def player_input():\n",
    "    status = True\n",
    "    while(status):\n",
    "        user_input=input('Enter the X or O to start')\n",
    "        if user_input == 'X' or user_input == 'O':\n",
    "            status = False\n",
    "            \n",
    "    return user_input"
   ]
  },
  {
   "cell_type": "markdown",
   "metadata": {},
   "source": [
    "**Step 3: Write a function that takes in the board list object, a marker ('X' or 'O'), and a desired position (number 1-9) and assigns it to the board.**"
   ]
  },
  {
   "cell_type": "code",
   "execution_count": 3,
   "metadata": {},
   "outputs": [
    {
     "name": "stdout",
     "output_type": "stream",
     "text": [
      "|   |   |   |\n",
      "|   |   |   |\n",
      "|   |   |   |\n",
      "-------------\n",
      "|   |   |   |\n",
      "|   |   |   |\n",
      "|   |   |   |\n",
      "-------------\n",
      "|   |   |   |\n",
      "|   | X |   |\n",
      "|   |   |   |\n",
      "\n"
     ]
    }
   ],
   "source": [
    "def place_marker(board, marker, position):\n",
    "    if int(position) in range(len(board)):\n",
    "        position-= 1\n",
    "        if board[position] =='X' or board[position] =='O':\n",
    "            print('The selected position is already filled \\n \\\n",
    "                   please try with different number')\n",
    "        else:\n",
    "            board[position]=marker\n",
    "    return board\n",
    "\n",
    "display_board(place_marker([' ' for _ in range(9)], 'X', 8))"
   ]
  },
  {
   "cell_type": "markdown",
   "metadata": {},
   "source": [
    "**Step 4: Write a function that takes in a board and a mark (X or O) and then checks to see if that mark has won. **"
   ]
  },
  {
   "cell_type": "code",
   "execution_count": 4,
   "metadata": {},
   "outputs": [],
   "source": [
    "#This is a win_check function\n",
    "\n",
    "# board = ['X', 'O', 'X', 'O', 'X', 'X', 'O', 'X', 'O']\n",
    "# mark = 'O'\n",
    "# status = None\n",
    "\n",
    "# The following function will check each array for specific mark\n",
    "\n",
    "def check_mark(row, mark):\n",
    "    return reduce(lambda res, x: res + 1 if x == mark else 0, row) == 3\n",
    "\n",
    "\n",
    "#This is the main function for checking the different scenarios \n",
    "\n",
    "def win_check(board, mark):\n",
    "    import numpy as np\n",
    "   \n",
    "    # Rearranging the array into the numpy matrix\n",
    "\n",
    "    a = np.array(board)\n",
    "    a = a.reshape(3, 3)\n",
    "    \n",
    "    #Check the diagonal from both side of the matrix\n",
    "    status=check_mark(a.diagonal(0),mark)\n",
    "    if status is True:\n",
    "        print(\"You won the game\")\n",
    "        return status\n",
    "            \n",
    "            \n",
    "    status=check_mark(np.fliplr(a).diagonal(0),mark)\n",
    "    if status == True:\n",
    "        print(\"You won the game\")\n",
    "        return status\n",
    "                \n",
    "    #Check the vertical and the horizontal elements of the matrix\n",
    "    \n",
    "    for i in range(3):\n",
    "        status=check_mark(a[:, i], mark)\n",
    "        if status == True:\n",
    "            print(\"You won the game\")\n",
    "            return status\n",
    "\n",
    "        status =check_mark(a[i, :], mark)\n",
    "        if status == True:\n",
    "            print(\"You won the game\")\n",
    "            return status\n",
    "            \n",
    "    print(\"You lost the game\")\n",
    "    return status"
   ]
  },
  {
   "cell_type": "markdown",
   "metadata": {},
   "source": [
    "**Step 5: Write a function that uses the random module to randomly decide which player goes first. You may want to lookup random.randint() Return a string of which player went first.**"
   ]
  },
  {
   "cell_type": "code",
   "execution_count": 5,
   "metadata": {},
   "outputs": [],
   "source": [
    "#The function generates the random function and will assign the 'O' and 'X' to the player one and two\n",
    "\n",
    "import random\n",
    "def choose_first():\n",
    "    d = random.randint(0, 1)\n",
    "    if d == 0:\n",
    "        print(\"Player one goes first\")\n",
    "        \n",
    "    else:\n",
    "        print(\"Player two goes first\")"
   ]
  },
  {
   "cell_type": "markdown",
   "metadata": {},
   "source": [
    "**Step 6: Write a function that returns a boolean indicating whether a space on the board is freely available.**"
   ]
  },
  {
   "cell_type": "code",
   "execution_count": 17,
   "metadata": {},
   "outputs": [
    {
     "name": "stdout",
     "output_type": "stream",
     "text": [
      "[' ', ' ', ' ', ' ', ' ', ' ', ' ', ' ', ' ']\n"
     ]
    }
   ],
   "source": [
    "board=[' ' for i in range(9)]\n",
    "print(board)\n",
    "position = 2"
   ]
  },
  {
   "cell_type": "code",
   "execution_count": 18,
   "metadata": {},
   "outputs": [],
   "source": [
    "def space_check(board, position):\n",
    "#     if board[position - 1] == 'X' or board[position - 1] == 'O':\n",
    "#         status = False\n",
    "#     else:\n",
    "#         status = True\n",
    "    return board[position -1] == ' '"
   ]
  },
  {
   "cell_type": "code",
   "execution_count": 19,
   "metadata": {},
   "outputs": [
    {
     "name": "stdout",
     "output_type": "stream",
     "text": [
      "True\n"
     ]
    }
   ],
   "source": [
    "print(space_check(board,position))"
   ]
  },
  {
   "cell_type": "markdown",
   "metadata": {},
   "source": [
    "**Step 7: Write a function that checks if the board is full and returns a boolean value. True if full, False otherwise.**"
   ]
  },
  {
   "cell_type": "code",
   "execution_count": 7,
   "metadata": {},
   "outputs": [],
   "source": [
    "def full_board_check(board):\n",
    "    count=0\n",
    "    status = False\n",
    "    for i in board:\n",
    "        if i=='X' or i=='O':\n",
    "            count +=1\n",
    "            \n",
    "    if len(board) == count:\n",
    "        status=True\n",
    "        \n",
    "    return status\n",
    "\n"
   ]
  },
  {
   "cell_type": "markdown",
   "metadata": {},
   "source": [
    "**Step 8: Write a function that asks for a player's next position (as a number 1-9) and then uses the function from step 6 to check if it's a free position. If it is, then return the position for later use.**"
   ]
  },
  {
   "cell_type": "code",
   "execution_count": 22,
   "metadata": {},
   "outputs": [],
   "source": [
    "def player_choice(board):\n",
    "    p_input = int(input('Enter your desired location from 1 to 9:'))\n",
    "    status=space_check(board,p_input)\n",
    "    \n",
    "    if status:\n",
    "        print('The position is empty')\n",
    "        return p_input\n",
    "    print('The selected position is full. Try again')\n",
    "    return None"
   ]
  },
  {
   "cell_type": "code",
   "execution_count": 23,
   "metadata": {},
   "outputs": [
    {
     "name": "stdout",
     "output_type": "stream",
     "text": [
      "Enter your desired location from 1 to 9:4\n",
      "The position is empty\n"
     ]
    },
    {
     "data": {
      "text/plain": [
       "4"
      ]
     },
     "execution_count": 23,
     "metadata": {},
     "output_type": "execute_result"
    }
   ],
   "source": [
    "#Test:\n",
    "board=[' ' for i in range(9)]\n",
    "player_choice(board)"
   ]
  },
  {
   "cell_type": "markdown",
   "metadata": {},
   "source": [
    "**Step 9: Write a function that asks the player if they want to play again and returns a boolean True if they do want to play again.**"
   ]
  },
  {
   "cell_type": "code",
   "execution_count": 9,
   "metadata": {},
   "outputs": [],
   "source": [
    "def replay():\n",
    "    print('Do you want to play again')\n",
    "    a=input('Enter Y or N')\n",
    "    if a =='Y':\n",
    "        game_time=True\n",
    "    elif a =='N':\n",
    "        game_time=False\n",
    "    return game_time       "
   ]
  },
  {
   "cell_type": "markdown",
   "metadata": {
    "collapsed": true
   },
   "source": [
    "**Step 10: Here comes the hard part! Use while loops and the functions you've made to run the game!**"
   ]
  },
  {
   "cell_type": "code",
   "execution_count": 10,
   "metadata": {},
   "outputs": [],
   "source": [
    "# board=[' ' for _ in range(9)]\n",
    "# #This will set up the board\n",
    "# display_board(board)\n",
    "\n",
    "# #This will determine which player is 'X' and which player is 'O'\n",
    "# choose_first()\n",
    "\n",
    "# #The player selects the 'X' or 'O' \n",
    "# marker=player_input()\n",
    "\n",
    "# status1=False\n",
    "# status2=False\n",
    "\n",
    "# while (not status1) or (not status2):\n",
    "    \n",
    "#     #checks to see if the entered position is empty\n",
    "\n",
    "#     position=int(input('Enter the desired position from 1 to 9'))\n",
    "#     position=player_choice(position)\n",
    "\n",
    "#     #this part will update the board based on user input marker, position and the board.\n",
    "#     board=place_marker(board, marker, position)\n",
    "\n",
    "#     status1=win_check(board, mark)\n",
    "#     if status1:\n",
    "#         print('You won the Game')\n",
    "\n",
    "#     status2=full_board_check(board)"
   ]
  },
  {
   "cell_type": "code",
   "execution_count": 25,
   "metadata": {},
   "outputs": [
    {
     "name": "stdout",
     "output_type": "stream",
     "text": [
      "Welcome to Tic Tac Toe!\n",
      "|   |   |   |\n",
      "|   |   |   |\n",
      "|   |   |   |\n",
      "-------------\n",
      "|   |   |   |\n",
      "|   |   |   |\n",
      "|   |   |   |\n",
      "-------------\n",
      "|   |   |   |\n",
      "|   |   |   |\n",
      "|   |   |   |\n",
      "\n",
      "Player one goes first\n",
      "Enter the X or O to startX\n",
      "Enter your desired location from 1 to 9:4\n"
     ]
    },
    {
     "ename": "TypeError",
     "evalue": "'NoneType' object is not subscriptable",
     "output_type": "error",
     "traceback": [
      "\u001b[1;31m---------------------------------------------------------------------------\u001b[0m",
      "\u001b[1;31mTypeError\u001b[0m                                 Traceback (most recent call last)",
      "\u001b[1;32m<ipython-input-25-3eb390e1f104>\u001b[0m in \u001b[0;36m<module>\u001b[1;34m()\u001b[0m\n\u001b[0;32m     20\u001b[0m \u001b[1;33m\u001b[0m\u001b[0m\n\u001b[0;32m     21\u001b[0m     \u001b[1;31m#The following function will return the player selected position\u001b[0m\u001b[1;33m\u001b[0m\u001b[1;33m\u001b[0m\u001b[0m\n\u001b[1;32m---> 22\u001b[1;33m     \u001b[0mposition\u001b[0m \u001b[1;33m=\u001b[0m \u001b[0mplayer_choice\u001b[0m\u001b[1;33m(\u001b[0m\u001b[0mboard\u001b[0m\u001b[1;33m)\u001b[0m\u001b[1;33m\u001b[0m\u001b[0m\n\u001b[0m\u001b[0;32m     23\u001b[0m \u001b[1;33m\u001b[0m\u001b[0m\n\u001b[0;32m     24\u001b[0m     \u001b[1;31m#The following line will check to see if the selected space is available\u001b[0m\u001b[1;33m\u001b[0m\u001b[1;33m\u001b[0m\u001b[0m\n",
      "\u001b[1;32m<ipython-input-22-b3917a06aa04>\u001b[0m in \u001b[0;36mplayer_choice\u001b[1;34m(board)\u001b[0m\n\u001b[0;32m      1\u001b[0m \u001b[1;32mdef\u001b[0m \u001b[0mplayer_choice\u001b[0m\u001b[1;33m(\u001b[0m\u001b[0mboard\u001b[0m\u001b[1;33m)\u001b[0m\u001b[1;33m:\u001b[0m\u001b[1;33m\u001b[0m\u001b[0m\n\u001b[0;32m      2\u001b[0m     \u001b[0mp_input\u001b[0m \u001b[1;33m=\u001b[0m \u001b[0mint\u001b[0m\u001b[1;33m(\u001b[0m\u001b[0minput\u001b[0m\u001b[1;33m(\u001b[0m\u001b[1;34m'Enter your desired location from 1 to 9:'\u001b[0m\u001b[1;33m)\u001b[0m\u001b[1;33m)\u001b[0m\u001b[1;33m\u001b[0m\u001b[0m\n\u001b[1;32m----> 3\u001b[1;33m     \u001b[0mstatus\u001b[0m\u001b[1;33m=\u001b[0m\u001b[0mspace_check\u001b[0m\u001b[1;33m(\u001b[0m\u001b[0mboard\u001b[0m\u001b[1;33m,\u001b[0m\u001b[0mp_input\u001b[0m\u001b[1;33m)\u001b[0m\u001b[1;33m\u001b[0m\u001b[0m\n\u001b[0m\u001b[0;32m      4\u001b[0m \u001b[1;33m\u001b[0m\u001b[0m\n\u001b[0;32m      5\u001b[0m     \u001b[1;32mif\u001b[0m \u001b[0mstatus\u001b[0m\u001b[1;33m:\u001b[0m\u001b[1;33m\u001b[0m\u001b[0m\n",
      "\u001b[1;32m<ipython-input-18-067e03dfa62d>\u001b[0m in \u001b[0;36mspace_check\u001b[1;34m(board, position)\u001b[0m\n\u001b[0;32m      4\u001b[0m \u001b[1;31m#     else:\u001b[0m\u001b[1;33m\u001b[0m\u001b[1;33m\u001b[0m\u001b[0m\n\u001b[0;32m      5\u001b[0m \u001b[1;31m#         status = True\u001b[0m\u001b[1;33m\u001b[0m\u001b[1;33m\u001b[0m\u001b[0m\n\u001b[1;32m----> 6\u001b[1;33m     \u001b[1;32mreturn\u001b[0m \u001b[0mboard\u001b[0m\u001b[1;33m[\u001b[0m\u001b[0mposition\u001b[0m \u001b[1;33m-\u001b[0m\u001b[1;36m1\u001b[0m\u001b[1;33m]\u001b[0m \u001b[1;33m==\u001b[0m \u001b[1;34m' '\u001b[0m\u001b[1;33m\u001b[0m\u001b[0m\n\u001b[0m",
      "\u001b[1;31mTypeError\u001b[0m: 'NoneType' object is not subscriptable"
     ]
    }
   ],
   "source": [
    "print('Welcome to Tic Tac Toe!')\n",
    "game_time = True\n",
    "\n",
    "counter = 0\n",
    "while game_time:\n",
    "    \n",
    "    counter +=1\n",
    "    \n",
    "    #The following line of code creates the board\n",
    "    board=display_board([' ' for _ in range(9)])\n",
    "    \n",
    "    #The following line of code determines which player goes first\n",
    "    \n",
    "    if counter ==1:\n",
    "        choose_first()\n",
    "    \n",
    "    #The following function will receive the player input in terms of X or O\n",
    "    \n",
    "    marker=player_input()\n",
    "    \n",
    "    #The following function will return the player selected position\n",
    "    position = player_choice(board)\n",
    "    \n",
    "    #The following line will check to see if the selected space is available\n",
    "    available = space_check(board, position)\n",
    "    \n",
    "    #The following function will receive the board, marker and the position and returns the updated board\n",
    "    \n",
    "    if available:\n",
    "        board = place_marker(board, marker, position)\n",
    "    \n",
    "    #The following function will return the board status to check if it is full or not\n",
    "    board_status = full_board_check(board)\n",
    "    \n",
    "    #The win check status will check to see if the player won the game based on the predifined rules.\n",
    "    \n",
    "    if board_status:\n",
    "        win_loss_status = win_check(board, mark)\n",
    "        \n",
    "    if win_loss_status:\n",
    "        print('You won the game')\n",
    "        break\n",
    "    \n",
    "    game_time = replay()   \n",
    "    "
   ]
  },
  {
   "cell_type": "markdown",
   "metadata": {
    "collapsed": true
   },
   "source": [
    "## Good Job!"
   ]
  }
 ],
 "metadata": {
  "kernelspec": {
   "display_name": "Python 3",
   "language": "python",
   "name": "python3"
  },
  "language_info": {
   "codemirror_mode": {
    "name": "ipython",
    "version": 3
   },
   "file_extension": ".py",
   "mimetype": "text/x-python",
   "name": "python",
   "nbconvert_exporter": "python",
   "pygments_lexer": "ipython3",
   "version": "3.6.5"
  }
 },
 "nbformat": 4,
 "nbformat_minor": 1
}
